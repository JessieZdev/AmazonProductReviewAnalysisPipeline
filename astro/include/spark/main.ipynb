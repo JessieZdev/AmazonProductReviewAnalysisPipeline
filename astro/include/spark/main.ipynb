{
 "cells": [
  {
   "cell_type": "code",
   "execution_count": 1,
   "metadata": {},
   "outputs": [],
   "source": [
    "\n",
    "import pyspark\n",
    "from pyspark.sql import SparkSession, types\n",
    "from pyspark.conf import SparkConf\n",
    "from pyspark.context import SparkContext \n",
    "from pyspark.sql import functions as F\n",
    "from pyspark.sql.functions import to_date"
   ]
  },
  {
   "cell_type": "code",
   "execution_count": null,
   "metadata": {},
   "outputs": [],
   "source": [
    "../"
   ]
  },
  {
   "cell_type": "code",
   "execution_count": null,
   "metadata": {},
   "outputs": [],
   "source": [
    "credentials_location = '/home/alexey/.google/credentials/google_credentials.json'\n",
    "\n",
    "conf = SparkConf() \\\n",
    "    .setMaster('local[*]') \\\n",
    "    .setAppName('test') \\\n",
    "    .set(\"spark.jars\", \"./lib/gcs-connector-hadoop3-2.2.5.jar\") \\\n",
    "    .set(\"spark.hadoop.google.cloud.auth.service.account.enable\", \"true\") \\\n",
    "    .set(\"spark.hadoop.google.cloud.auth.service.account.json.keyfile\", credentials_location)"
   ]
  },
  {
   "cell_type": "code",
   "execution_count": null,
   "metadata": {},
   "outputs": [],
   "source": [
    "sc = SparkContext(conf=conf)\n",
    "\n",
    "hadoop_conf = sc._jsc.hadoopConfiguration()\n",
    "\n",
    "hadoop_conf.set(\"fs.AbstractFileSystem.gs.impl\",  \"com.google.cloud.hadoop.fs.gcs.GoogleHadoopFS\")\n",
    "hadoop_conf.set(\"fs.gs.impl\", \"com.google.cloud.hadoop.fs.gcs.GoogleHadoopFileSystem\")\n",
    "hadoop_conf.set(\"fs.gs.auth.service.account.json.keyfile\", credentials_location)\n",
    "hadoop_conf.set(\"fs.gs.auth.service.account.enable\", \"true\")"
   ]
  },
  {
   "cell_type": "code",
   "execution_count": 2,
   "metadata": {},
   "outputs": [],
   "source": [
    "# Initialize SparkSession\n",
    "spark = SparkSession.builder \\\n",
    "    .master(\"local[*]\") \\\n",
    "    .appName('test') \\\n",
    "    .getOrCreate()\n"
   ]
  },
  {
   "cell_type": "code",
   "execution_count": 4,
   "metadata": {},
   "outputs": [
    {
     "data": {
      "text/plain": [
       "'C:\\\\Users\\\\richg/astro/include/data/All_Beauty.parquet'"
      ]
     },
     "execution_count": 4,
     "metadata": {},
     "output_type": "execute_result"
    }
   ],
   "source": [
    "\n",
    "import os\n",
    "fact_file_path = os.path.expanduser('~/astro/include/data/All_Beauty.parquet')\n",
    "meta_file_path = os.path.expanduser('~/astro/include/data/meta_All_Beauty.parquet')\n"
   ]
  },
  {
   "cell_type": "code",
   "execution_count": 3,
   "metadata": {},
   "outputs": [],
   "source": [
    "review_file_path = 'C:/Users/richg/coding/de/AmazonProductReviewAnalysisPipeline/astro/include/data/gz/review/All_Beauty.jsonl.gz'\n",
    "meta_file_path = 'C:/Users/richg/coding/de/AmazonProductReviewAnalysisPipeline/astro/include/data/gz/meta/meta_All_Beauty.jsonl.gz'\n",
    "\n",
    "review_schema = types.StructType([\n",
    "    types.StructField(\"rating\", types.DoubleType(), True),\n",
    "    types.StructField(\"title\", types.StringType(), True),\n",
    "    types.StructField(\"text\", types.StringType(), True),\n",
    "    # types.StructField(\"images\", types.ArrayType(types.StructType([\n",
    "    #     types.StructField(\"attachment_type\", types.StringType(), True),\n",
    "    #     types.StructField(\"large_image_url\", types.StringType(), True),\n",
    "    #     types.StructField(\"medium_image_url\", types.StringType(), True),\n",
    "    #     types.StructField(\"small_image_url\", types.StringType(), True)\n",
    "    # ]), True), True),    \n",
    "    types.StructField(\"asin\", types.StringType(), True),\n",
    "    types.StructField(\"parent_asin\", types.StringType(), True),\n",
    "    types.StructField(\"user_id\", types.StringType(), True),\n",
    "    types.StructField(\"timestamp\", types.LongType(), True),\n",
    "    types.StructField(\"verified_purchase\", types.BooleanType(), True),\n",
    "    types.StructField(\"helpful_vote\", types.LongType(), True)\n",
    "])\n",
    "meta_schema = types.StructType([\n",
    "    types.StructField(\"average_rating\", types.DoubleType(), True),\n",
    "    types.StructField(\"description\", types.ArrayType(types.StringType(), True), True),\n",
    "    types.StructField(\"features\", types.ArrayType(types.StringType(), True), True),\n",
    "    types.StructField(\"main_category\", types.StringType(), True),\n",
    "    types.StructField(\"parent_asin\", types.StringType(), True),\n",
    "    types.StructField(\"price\", types.DoubleType(), True),\n",
    "    types.StructField(\"rating_number\", types.LongType(), True),\n",
    "    types.StructField(\"store\", types.StringType(), True),\n",
    "    types.StructField(\"title\", types.StringType(), True),\n",
    "])\n"
   ]
  },
  {
   "cell_type": "markdown",
   "metadata": {},
   "source": [
    "read parquet"
   ]
  },
  {
   "cell_type": "code",
   "execution_count": 4,
   "metadata": {},
   "outputs": [],
   "source": [
    "df_meta = spark.read \\\n",
    "    .schema(meta_schema) \\\n",
    "    .option(\"lineSep\", \"\\n\")\\\n",
    "    .json(meta_file_path)"
   ]
  },
  {
   "cell_type": "code",
   "execution_count": 6,
   "metadata": {},
   "outputs": [],
   "source": [
    "df_review = spark.read \\\n",
    "        .schema(review_schema) \\\n",
    "        .option(\"lineSep\", \"\\n\")\\\n",
    "        .json(review_file_path)"
   ]
  },
  {
   "cell_type": "code",
   "execution_count": 7,
   "metadata": {},
   "outputs": [],
   "source": [
    "\n",
    "review_output_file_path = 'C:/Users/richg/coding/de/AmazonProductReviewAnalysisPipeline/astro/include/data/parquet/review'\n",
    "\n",
    "df_review \\\n",
    "    .repartition(4) \\\n",
    "    .write.parquet(review_output_file_path, mode= 'overwrite')\n",
    "    "
   ]
  },
  {
   "cell_type": "code",
   "execution_count": 10,
   "metadata": {},
   "outputs": [],
   "source": [
    "# df_all_beauty = df_all_beauty.withColumn(\"date\", F.to_date(F.col(\"timestamp\")))\n",
    "# df_all_beauty = df_all_beauty.withColumn(\"timestamp\", (F.col(\"timestamp\") / 1000).cast(types.TimestampType()))\n",
    "# ts = df_all_beauty.selectExpr(\"make_timestamp(YEAR, MONTH, DAY, HOUR, MINUTE, SECOND) as MAKE_TIMESTAMP\")\n",
    "\n",
    "df_review = df_review\\\n",
    "    .withColumnRenamed(\"title\", \"review_title\")\\\n",
    "    .withColumnRenamed(\"rating\", \"user_rating\")\n",
    "\n"
   ]
  },
  {
   "cell_type": "code",
   "execution_count": 59,
   "metadata": {},
   "outputs": [
    {
     "name": "stdout",
     "output_type": "stream",
     "text": [
      "+--------------+--------------------+--------------------+-------------+-----------+-----+-------------+--------------------+--------------------+\n",
      "|average_rating|         description|            features|main_category|parent_asin|price|rating_number|               store|               title|\n",
      "+--------------+--------------------+--------------------+-------------+-----------+-----+-------------+--------------------+--------------------+\n",
      "|           4.8|                  []|                  []|   All Beauty| B01CUPMQZE| null|           10|     Howard Products|Howard LC0008 Lea...|\n",
      "|           4.5|                  []|                  []|   All Beauty| B076WQZGPM| null|            3|              Yes To|Yes to Tomatoes D...|\n",
      "|           4.4|                  []|                  []|   All Beauty| B000B658RI| null|           26|Levine Health Pro...|Eye Patch Black A...|\n",
      "|           3.1|                  []|                  []|   All Beauty| B088FKY3VD| null|          102|            Cherioll|Tattoo Eyebrow St...|\n",
      "|           4.3|[The Precision Pl...|[Material: 304 St...|   All Beauty| B07NGFDN6G| null|            7|           Precision|Precision Plunger...|\n",
      "|           3.7|[Description, The...|[The false toenai...|   All Beauty| B07G9GWFSM| 6.99|           35|             Lurrose|Lurrose 100Pcs Fu...|\n",
      "|           4.1|                  []|                  []|   All Beauty| B08XZ97HFY| null|           50|            Edoneery|Stain Bonnet For ...|\n",
      "|           3.8|                  []|                  []|   All Beauty| B08DNQTTQK| null|           32|              Maitys|50 Pieces False E...|\n",
      "|           3.7|[Edt spray 3 oz d...|[Extatic Balmain ...|   All Beauty| B01ERJEGS6|86.95|            2|             Balmain|Gold extatic Musk...|\n",
      "|           4.3|                  []|                  []|   All Beauty| B08P7LXKP7| null|           66|              Geyoga|4 Pieces Satin Bo...|\n",
      "|           4.0|                  []|                  []|   All Beauty| B01555WAOS| null|            7|                AVON|Avon Big & False ...|\n",
      "|           4.1|                  []|                  []|   All Beauty| B07GGYR3LJ| null|           15|              Brrnoo|Stainless Steel B...|\n",
      "|           3.3|                  []|                  []|   All Beauty| B06XJZ7955| 79.5|            4|                null|Brand New Headran...|\n",
      "|           4.2|                  []|                  []|   All Beauty| B07FVZVQKV| null|           22|            GETMORE7|Loose Powder, 1.5...|\n",
      "|           3.0|[Description Smal...|[Package:OPP, Ste...|   All Beauty| B00FCQHYEW| null|            6|              Buytra|Small MONEY CLIP ...|\n",
      "|           4.2|               [new]|                  []|   All Beauty| B07ZJW55Z5| null|            8|               Chloe|     Nomade By Chloe|\n",
      "|           4.4|[This foaming pix...|[GENTLE ON THE SK...|   All Beauty| B08X7JHQG5| 5.99|           52|          BioMiracle|BioMiracle StarDu...|\n",
      "|           3.9|                  []|                  []|   All Beauty| B07WFSQXL5| null|          114|                 PPY|PPY Eyelash Growt...|\n",
      "|           3.6|                  []|                  []|   All Beauty| B074SHN8YC| null|            3|             dingxiu|Dingxiu (5Packs,2...|\n",
      "|           3.6|                  []|                  []|   All Beauty| B07MH4Z7J7| null|           11|              Nadula|Nadula Hair 10A B...|\n",
      "+--------------+--------------------+--------------------+-------------+-----------+-----+-------------+--------------------+--------------------+\n",
      "only showing top 20 rows\n",
      "\n"
     ]
    }
   ],
   "source": [
    "df_meta.show()"
   ]
  },
  {
   "cell_type": "code",
   "execution_count": 94,
   "metadata": {},
   "outputs": [
    {
     "name": "stdout",
     "output_type": "stream",
     "text": [
      "+----------+-------------------+\n",
      "|      asin|   avg_helpful_vote|\n",
      "+----------+-------------------+\n",
      "|B08ZSR9HLF|0.39285714285714285|\n",
      "|B094VG2GKR|                0.0|\n",
      "|B07K1LGWYB| 0.2857142857142857|\n",
      "|B0B8DB17VT|0.22727272727272727|\n",
      "|B085M95TX2| 0.5818181818181818|\n",
      "|B07YS9W97B| 0.4444444444444444|\n",
      "|B00TK0VV68|                0.0|\n",
      "|B00VUIVWA8|                0.0|\n",
      "|B07MMWXPLJ| 0.7225433526011561|\n",
      "|B07HCR8QDN|                0.0|\n",
      "|B07M6LSZVF|              0.125|\n",
      "|B07Y9KVKFK|                0.0|\n",
      "|B07SPDDDZT|                1.5|\n",
      "|B07K1DRCYR|  1.464071856287425|\n",
      "|B000FEF1V4| 1.0928338762214984|\n",
      "|B087GD4BJ1|               0.15|\n",
      "|B08CZD385F|                0.0|\n",
      "|B01G77ISJE| 0.6666666666666666|\n",
      "|B0779PMNDY|                1.0|\n",
      "|B072WRK6T3|0.29411764705882354|\n",
      "+----------+-------------------+\n",
      "only showing top 20 rows\n",
      "\n"
     ]
    }
   ],
   "source": [
    "df_avg_helpful = df_all_beauty.groupBy(\"asin\").agg(F.avg(\"helpful_vote\").alias(\"avg_helpful_vote\"))\n",
    "df_avg_helpful.show()"
   ]
  },
  {
   "cell_type": "code",
   "execution_count": 24,
   "metadata": {},
   "outputs": [],
   "source": [
    "from pyspark.sql.functions import broadcast\n",
    "\n",
    "df_review_product = df_review\\\n",
    "    .join(broadcast(df_meta),df_meta.parent_asin == df_review.parent_asin)\\\n",
    "    .drop(df_meta.parent_asin)\n",
    "    .dropDuplicates()\n"
   ]
  },
  {
   "cell_type": "code",
   "execution_count": 58,
   "metadata": {},
   "outputs": [
    {
     "name": "stdout",
     "output_type": "stream",
     "text": [
      "number of original data rows:  112590\n",
      "number of data rows after deleting duplicated data:  112590\n",
      "number of duplicated data:  0\n"
     ]
    }
   ],
   "source": [
    "#count the number of original data rows\n",
    "n1 = df_meta.count()\n",
    "print(\"number of original data rows: \", n1)\n",
    "#count the number of data rows after deleting duplicated data\n",
    "n2 = df_meta.dropDuplicates().count()\n",
    "print(\"number of data rows after deleting duplicated data: \", n2)\n",
    "n3 = n1 - n2\n",
    "print(\"number of duplicated data: \", n3)"
   ]
  },
  {
   "cell_type": "code",
   "execution_count": 27,
   "metadata": {},
   "outputs": [
    {
     "name": "stdout",
     "output_type": "stream",
     "text": [
      "number of missing value rows:  0\n"
     ]
    }
   ],
   "source": [
    "df_review_productNoMissingValue = df_review_product.dropDuplicates().dropna(\n",
    "    how=\"any\", subset=[\"user_rating\", \"text\"])\n",
    "numberOfMissingValueAny = n1 - df_review_product.count()\n",
    "print(\"number of missing value rows: \", numberOfMissingValueAny)"
   ]
  }
 ],
 "metadata": {
  "kernelspec": {
   "display_name": "venv",
   "language": "python",
   "name": "python3"
  },
  "language_info": {
   "codemirror_mode": {
    "name": "ipython",
    "version": 3
   },
   "file_extension": ".py",
   "mimetype": "text/x-python",
   "name": "python",
   "nbconvert_exporter": "python",
   "pygments_lexer": "ipython3",
   "version": "3.8.13"
  }
 },
 "nbformat": 4,
 "nbformat_minor": 2
}
